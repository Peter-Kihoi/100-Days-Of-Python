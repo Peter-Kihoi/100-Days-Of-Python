{
 "cells": [
  {
   "cell_type": "code",
   "execution_count": 4,
   "id": "ff56fc71",
   "metadata": {},
   "outputs": [
    {
     "name": "stdout",
     "output_type": "stream",
     "text": [
      "It cant be\n"
     ]
    }
   ],
   "source": [
    "peter = False\n",
    "\n",
    "if peter:\n",
    "    print(\"Peter He is a honest guy\")\n",
    "else:\n",
    "    print(\"It cant be\")"
   ]
  },
  {
   "cell_type": "code",
   "execution_count": 14,
   "id": "cb9525a4",
   "metadata": {},
   "outputs": [
    {
     "name": "stdout",
     "output_type": "stream",
     "text": [
      "welcome to the rollercoaster!!\n",
      "enter your height in cm: 120\n",
      "You entered 120\n"
     ]
    }
   ],
   "source": [
    "print(\"welcome to the rollercoaster!!\")\n",
    "height = float(input(\"enter your height in cm: \"))\n",
    "\n",
    "if height < 120:\n",
    "    print(\"too short\")\n",
    "elif height == 120:\n",
    "    print(\"You entered 120\")\n",
    "elif height < 150:\n",
    "    print(\"Tall enough\")\n",
    "else:\n",
    "    print(\"mrefu zaidi\")"
   ]
  },
  {
   "cell_type": "code",
   "execution_count": 17,
   "id": "252d66a8",
   "metadata": {},
   "outputs": [
    {
     "data": {
      "text/plain": [
       "0"
      ]
     },
     "execution_count": 17,
     "metadata": {},
     "output_type": "execute_result"
    }
   ],
   "source": [
    "9 % 3"
   ]
  },
  {
   "cell_type": "code",
   "execution_count": 19,
   "id": "1d42e2ed",
   "metadata": {},
   "outputs": [
    {
     "name": "stdout",
     "output_type": "stream",
     "text": [
      "which number do you want to check13\n",
      "This is an odd number.\n"
     ]
    }
   ],
   "source": [
    "number = int(input(\"which number do you want to check\"))\n",
    "\n",
    "if number % 2 == 0:\n",
    "    print(\"This is an even number.\")\n",
    "else:\n",
    "    print(\"This is an odd number.\")"
   ]
  },
  {
   "cell_type": "markdown",
   "id": "7a0467be",
   "metadata": {},
   "source": [
    "## Nested IF"
   ]
  },
  {
   "cell_type": "code",
   "execution_count": 30,
   "id": "69877734",
   "metadata": {},
   "outputs": [
    {
     "name": "stdout",
     "output_type": "stream",
     "text": [
      "Welcome\n",
      "enter your height: 121\n",
      "can ride\n",
      "enter your age: 19\n",
      "Pay $12\n"
     ]
    }
   ],
   "source": [
    "print(\"Welcome\")\n",
    "\n",
    "height = float(input(\"enter your height: \"))\n",
    "\n",
    "if height >= 120:\n",
    "    print(\"can ride\")\n",
    "    age = int(input(\"enter your age: \"))\n",
    "    if age < 12:\n",
    "        print(\"You will pay $5\")\n",
    "    elif age <= 18:\n",
    "        print(\"Pay $7\")\n",
    "    else:\n",
    "        print(\"Pay $12\")\n",
    "else:\n",
    "    print(\"cant ride\")"
   ]
  },
  {
   "cell_type": "markdown",
   "id": "7600df8a",
   "metadata": {},
   "source": [
    "## BMI calc"
   ]
  },
  {
   "cell_type": "code",
   "execution_count": 34,
   "id": "56ad90c9",
   "metadata": {},
   "outputs": [
    {
     "name": "stdout",
     "output_type": "stream",
     "text": [
      "enter your height in m:\n",
      "1.75\n",
      "enter your weight in kg:\n",
      "80\n",
      "26\n",
      "your BMI is 26, YOU are overweight\n"
     ]
    }
   ],
   "source": [
    "height = float(input(\"enter your height in m:\\n\"))\n",
    "weight = float(input(\"enter your weight in kg:\\n\"))\n",
    "\n",
    "bmi = int(weight/(height**2))\n",
    "print(bmi)\n",
    "\n",
    "if bmi < 18.5:\n",
    "    print(f\"your BMI is {bmi}, You are underweight\")\n",
    "elif bmi < 25:\n",
    "    print(f\"your BMI is {bmi}, You have a normal weight\")\n",
    "elif bmi < 30:\n",
    "    print(f\"your BMI is {bmi}, YOU are overweight\")\n",
    "elif bmi < 35:\n",
    "    print(f\"your BMI is {bmi}, you are obese\")\n",
    "else:\n",
    "    print(f\"your BMI is {bmi}, clinically obese\")"
   ]
  },
  {
   "cell_type": "markdown",
   "id": "c5f4449a",
   "metadata": {},
   "source": [
    "## leap year\n",
    "#### on every year that is evenly divisible by 4\n",
    "#### except every year that is divisible by 100\n",
    "#### unless the year is also evenly divisible by 400 "
   ]
  },
  {
   "cell_type": "code",
   "execution_count": 38,
   "id": "05c0dbc0",
   "metadata": {},
   "outputs": [
    {
     "name": "stdout",
     "output_type": "stream",
     "text": [
      "Which year do you want to check? 2020\n",
      "Leap Year\n"
     ]
    }
   ],
   "source": [
    "year = int(input(\"Which year do you want to check? \"))\n",
    "\n",
    "if year % 4 == 0:\n",
    "    if year % 100 == 0:\n",
    "        if year % 400 == 0:\n",
    "            print(\"Leap Year\")\n",
    "        else:\n",
    "            print(\"Not leap year\")\n",
    "    else:\n",
    "        print(\"Leap Year\")\n",
    "else:\n",
    "    print(\"Not leap year\")"
   ]
  },
  {
   "cell_type": "markdown",
   "id": "72fb495b",
   "metadata": {},
   "source": [
    "### MULTIPLE IF\n"
   ]
  },
  {
   "cell_type": "code",
   "execution_count": 49,
   "id": "aaa3761d",
   "metadata": {},
   "outputs": [
    {
     "name": "stdout",
     "output_type": "stream",
     "text": [
      "Welcome\n",
      "enter your height: 121\n",
      "can ride\n",
      "enter your age: 23\n",
      "Adult ticket are $12\n",
      "Do you want a photo taken? Y or Ny\n",
      "Your final bill is 15\n"
     ]
    }
   ],
   "source": [
    "print(\"Welcome\")\n",
    "bill = 0\n",
    "\n",
    "height = float(input(\"enter your height: \"))\n",
    "\n",
    "if height >= 120:\n",
    "    print(\"can ride\")\n",
    "    age = int(input(\"enter your age: \"))\n",
    "    if age < 12:\n",
    "        print(\"child tickets are $5\")\n",
    "        bill = 5\n",
    "    elif age <= 18:\n",
    "        print(\"Youth ticket are $7\")\n",
    "        bill = 7\n",
    "    else:\n",
    "        print(\"Adult ticket are $12\")\n",
    "        bill = 12\n",
    "        \n",
    "    photo = input(\"Do you want a photo taken? Y or N\")\n",
    "    if photo == 'y':\n",
    "        #Add three dollars to their bill\n",
    "        bill += 3\n",
    "        \n",
    "    print(f\"Your final bill is {bill}\")\n",
    "    \n",
    "else:\n",
    "    print(\"cant ride\")"
   ]
  },
  {
   "cell_type": "markdown",
   "id": "67f92f51",
   "metadata": {},
   "source": [
    "## Pizza Order"
   ]
  },
  {
   "cell_type": "code",
   "execution_count": 56,
   "id": "d51375e0",
   "metadata": {},
   "outputs": [
    {
     "name": "stdout",
     "output_type": "stream",
     "text": [
      "Welcome to python Pizza Deliveries!\n",
      "What size pizza do you want? S, M, L l\n",
      "Do you want pepperoni? Y or N y\n",
      "Do you want extra cheese? Y or N y\n",
      "your final bill is $29\n"
     ]
    }
   ],
   "source": [
    "print(\"Welcome to python Pizza Deliveries!\")\n",
    "size = input(\"What size pizza do you want? S, M, L \")\n",
    "add_pepperoni = input(\"Do you want pepperoni? Y or N \")\n",
    "extra_cheese = input(\"Do you want extra cheese? Y or N \")\n",
    "\n",
    "bill = 0\n",
    "if size == \"s\":\n",
    "    bill += 15\n",
    "    \n",
    "elif size == \"m\":\n",
    "    bill += 20\n",
    "else:\n",
    "    bill += 25\n",
    "\n",
    "if add_pepperoni == 'y':\n",
    "    if size == 's':\n",
    "        bill +=2\n",
    "    else:\n",
    "        bill +=3\n",
    "if extra_cheese == 'y':\n",
    "    bill += 1\n",
    "    \n",
    "print(f\"your final bill is ${bill}\")\n"
   ]
  },
  {
   "cell_type": "markdown",
   "id": "b34fd6ce",
   "metadata": {},
   "source": [
    "## Logical operators\n",
    "### AND, OR, NOT"
   ]
  },
  {
   "cell_type": "code",
   "execution_count": 60,
   "id": "9a415e6e",
   "metadata": {},
   "outputs": [
    {
     "data": {
      "text/plain": [
       "True"
      ]
     },
     "execution_count": 60,
     "metadata": {},
     "output_type": "execute_result"
    }
   ],
   "source": [
    "a = 12\n",
    "\n",
    "a > 15 or a < 13"
   ]
  },
  {
   "cell_type": "code",
   "execution_count": 62,
   "id": "41396ae5",
   "metadata": {},
   "outputs": [
    {
     "data": {
      "text/plain": [
       "True"
      ]
     },
     "execution_count": 62,
     "metadata": {},
     "output_type": "execute_result"
    }
   ],
   "source": [
    "not a > 15 and a < 13"
   ]
  },
  {
   "cell_type": "code",
   "execution_count": 63,
   "id": "d20efd2c",
   "metadata": {},
   "outputs": [
    {
     "name": "stdout",
     "output_type": "stream",
     "text": [
      "t\n"
     ]
    }
   ],
   "source": [
    "if not a > 15 and a < 13:\n",
    "    print(\"t\")\n",
    "else:\n",
    "    print(\"f\")"
   ]
  },
  {
   "cell_type": "code",
   "execution_count": 70,
   "id": "47b1bf22",
   "metadata": {},
   "outputs": [
    {
     "name": "stdout",
     "output_type": "stream",
     "text": [
      "Welcome\n",
      "enter your height: 121\n",
      "can ride\n",
      "enter your age: 46\n",
      "Everything is going to be ok. Have a free ride\n",
      "Do you want a photo taken? Y or Ny\n",
      "Your final bill is 3\n"
     ]
    }
   ],
   "source": [
    "print(\"Welcome\")\n",
    "bill = 0\n",
    "\n",
    "height = float(input(\"enter your height: \"))\n",
    "\n",
    "if height >= 120:\n",
    "    print(\"can ride\")\n",
    "    age = int(input(\"enter your age: \"))\n",
    "    if age < 12:\n",
    "        print(\"child tickets are $5\")\n",
    "        bill = 5\n",
    "    elif age <= 18:\n",
    "        print(\"Youth ticket are $7\")\n",
    "        bill = 7\n",
    "    elif age >= 45 and age <= 55:\n",
    "        print(\"Everything is going to be ok. Have a free ride\")\n",
    "    else:\n",
    "        print(\"Adult ticket are $12\")\n",
    "        bill = 12\n",
    "        \n",
    "    photo = input(\"Do you want a photo taken? Y or N\")\n",
    "    if photo == 'y':\n",
    "        #Add three dollars to their bill\n",
    "        bill += 3\n",
    "        \n",
    "    print(f\"Your final bill is {bill}\")\n",
    "    \n",
    "else:\n",
    "    print(\"cant ride\")"
   ]
  },
  {
   "cell_type": "markdown",
   "id": "89185a02",
   "metadata": {},
   "source": [
    "## Love Calculator"
   ]
  },
  {
   "cell_type": "code",
   "execution_count": 77,
   "id": "d339827f",
   "metadata": {},
   "outputs": [
    {
     "name": "stdout",
     "output_type": "stream",
     "text": [
      "Welcome to the Love Calculator\n",
      "What is your name? Peter Kihoi\n",
      "What is their name? Grace Wambui\n",
      "Your score is 74\n"
     ]
    }
   ],
   "source": [
    "print(\"Welcome to the Love Calculator\")\n",
    "\n",
    "name1 = input(\"What is your name? \")\n",
    "name2 = input(\"What is their name? \")\n",
    "\n",
    "fullname = name1.lower() + name2.lower()\n",
    "t = fullname.count(\"t\")\n",
    "r = fullname.count(\"r\")\n",
    "u = fullname.count(\"u\")\n",
    "e = fullname.count(\"e\")\n",
    "l = fullname.count(\"l\")\n",
    "o = fullname.count(\"o\")\n",
    "v = fullname.count(\"v\")\n",
    "e = fullname.count(\"e\")\n",
    "\n",
    "firstno = t + r + u + e\n",
    "lastno = l + o + v + e\n",
    "\n",
    "score = int(str(firstno) + str(lastno))\n",
    "\n",
    "if score < 10 or score > 90:\n",
    "    print(f\"Your score is {score}, you go together like coke and mentos\")\n",
    "elif score > 40 and score < 50:\n",
    "    print(f\"Your score is {score}, you are alright together\")\n",
    "else:\n",
    "    print(f\"Your score is {score}\")\n"
   ]
  },
  {
   "cell_type": "code",
   "execution_count": null,
   "id": "67eb3006",
   "metadata": {},
   "outputs": [],
   "source": []
  },
  {
   "cell_type": "code",
   "execution_count": null,
   "id": "aa653f31",
   "metadata": {},
   "outputs": [],
   "source": []
  }
 ],
 "metadata": {
  "kernelspec": {
   "display_name": "Python 3",
   "language": "python",
   "name": "python3"
  },
  "language_info": {
   "codemirror_mode": {
    "name": "ipython",
    "version": 3
   },
   "file_extension": ".py",
   "mimetype": "text/x-python",
   "name": "python",
   "nbconvert_exporter": "python",
   "pygments_lexer": "ipython3",
   "version": "3.8.8"
  }
 },
 "nbformat": 4,
 "nbformat_minor": 5
}
