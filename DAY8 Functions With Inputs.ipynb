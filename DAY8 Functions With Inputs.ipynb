{
 "cells": [
  {
   "cell_type": "code",
   "execution_count": 1,
   "id": "7c38e4be",
   "metadata": {},
   "outputs": [
    {
     "data": {
      "text/plain": [
       "6"
      ]
     },
     "execution_count": 1,
     "metadata": {},
     "output_type": "execute_result"
    }
   ],
   "source": [
    "def myFun(a, b):\n",
    "    return a * b\n",
    "\n",
    "myFun(2,3)"
   ]
  },
  {
   "cell_type": "code",
   "execution_count": 4,
   "id": "205c3d6f",
   "metadata": {},
   "outputs": [
    {
     "name": "stdout",
     "output_type": "stream",
     "text": [
      "hello peter\n",
      "How do you do peter?\n",
      "Isn't the weather nice today?\n"
     ]
    }
   ],
   "source": [
    "def greet(name):\n",
    "    print(f\"hello {name}\")\n",
    "    print(f\"How do you do {name}?\")\n",
    "    print(\"Isn't the weather nice today?\")\n",
    "greet(\"peter\")"
   ]
  },
  {
   "cell_type": "code",
   "execution_count": 10,
   "id": "df1622fd",
   "metadata": {},
   "outputs": [
    {
     "name": "stdout",
     "output_type": "stream",
     "text": [
      "What is your name? Peter\n",
      "Pin Your Location.Kwareee\n",
      "I am Peter from Kwareee \n"
     ]
    }
   ],
   "source": [
    "def greet_with(name, location):\n",
    "    print(f\"I am {name} from {location} \")\n",
    "    \n",
    "name = input(\"What is your name? \");\n",
    "location = input(\"Pin Your Location.\")\n",
    "\n",
    "greet_with(name, location)"
   ]
  },
  {
   "cell_type": "markdown",
   "id": "667fb332",
   "metadata": {},
   "source": [
    "## Area calculation"
   ]
  },
  {
   "cell_type": "code",
   "execution_count": 24,
   "id": "df5f4296",
   "metadata": {},
   "outputs": [
    {
     "name": "stdout",
     "output_type": "stream",
     "text": [
      "height of wall: 7\n",
      "Width of wall: 13\n",
      "You'll need 19 cans of paint \n"
     ]
    }
   ],
   "source": [
    "import math\n",
    "test_h = int(input(\"height of wall: \"))\n",
    "test_w =int(input(\"Width of wall: \"))\n",
    "coverage = 5\n",
    "\n",
    "def paint_calc(height, width, cover):\n",
    "    noOfCans = math.ceil((width * height)/cover)\n",
    "    print(f\"You'll need {noOfCans} cans of paint \")\n",
    "\n",
    "\n",
    "paint_calc(height=test_h, width=test_w, cover=coverage)\n"
   ]
  },
  {
   "cell_type": "markdown",
   "id": "4895abdc",
   "metadata": {},
   "source": [
    "## Prime Number"
   ]
  },
  {
   "cell_type": "code",
   "execution_count": 42,
   "id": "92ac4ff6",
   "metadata": {},
   "outputs": [
    {
     "name": "stdout",
     "output_type": "stream",
     "text": [
      "Check this number: 57\n",
      "not prime\n"
     ]
    }
   ],
   "source": [
    "n = int(input(\"Check this number: \"))\n",
    "\n",
    "def prime_checker(number):\n",
    "    if number == 2 or number == 3 or number == 5:\n",
    "        print(\"It's a prime number\")\n",
    "    elif number % 2 != 0:\n",
    "        if number % 3 != 0:\n",
    "            if number % 5 != 0:\n",
    "                print(\"It's a prime number\")\n",
    "            else:\n",
    "                print(\"Not prime\")        \n",
    "        else:\n",
    "            print(\"not prime\")\n",
    "    else:\n",
    "        print(\"Not Prime\")\n",
    "    \n",
    "\n",
    "prime_checker(number=n)"
   ]
  },
  {
   "cell_type": "markdown",
   "id": "3979abe6",
   "metadata": {},
   "source": [
    "## Simple Prime Chacker"
   ]
  },
  {
   "cell_type": "code",
   "execution_count": 43,
   "id": "9834759f",
   "metadata": {},
   "outputs": [
    {
     "name": "stdout",
     "output_type": "stream",
     "text": [
      "Check this number: 57\n",
      "it is not a prime number\n"
     ]
    }
   ],
   "source": [
    "n = int(input(\"Check this number: \"))\n",
    "\n",
    "def prime_checker(number):\n",
    "    is_prime = True\n",
    "    for i in range(2, number):\n",
    "        if number % i == 0:\n",
    "            is_prime = False\n",
    "    if is_prime:\n",
    "        print(\"It is a prime number\")\n",
    "    else:\n",
    "        print(\"it is not a prime number\")\n",
    "prime_checker(number=n)"
   ]
  },
  {
   "cell_type": "markdown",
   "id": "34b37481",
   "metadata": {},
   "source": [
    "## Caesar Cipher"
   ]
  },
  {
   "cell_type": "code",
   "execution_count": 89,
   "id": "d3dab67c",
   "metadata": {},
   "outputs": [
    {
     "name": "stdout",
     "output_type": "stream",
     "text": [
      "Type 'encode' to encrypt, type 'decode' to decrypt: \n",
      "encode\n",
      "Type your message: \n",
      "let's meet 2day @ 5\n",
      "Type the shift number: \n",
      "7\n",
      "The encoded text is sla'z tlla 2khf @ 5\n",
      "Type 'yes' if you want to go again. Otherwise type 'no'. \n",
      "yes\n",
      "Type 'encode' to encrypt, type 'decode' to decrypt: \n",
      "decode\n",
      "Type your message: \n",
      "sla'z tlla 2khf @ 5\n",
      "Type the shift number: \n",
      "5\n",
      "The decoded text is ngv'u oggv 2fca @ 5\n",
      "Type 'yes' if you want to go again. Otherwise type 'no'. \n",
      "yes\n",
      "Type 'encode' to encrypt, type 'decode' to decrypt: \n",
      "encode\n",
      "Type your message: \n",
      "ngv'u oggv 2fca @ 5\n",
      "Type the shift number: \n",
      "5\n",
      "The encoded text is sla'z tlla 2khf @ 5\n",
      "Type 'yes' if you want to go again. Otherwise type 'no'. \n",
      "yes\n",
      "Type 'encode' to encrypt, type 'decode' to decrypt: \n",
      "decode\n",
      "Type your message: \n",
      "sla'z tlla 2khf @ 5\n",
      "Type the shift number: \n",
      "7\n",
      "The decoded text is let's meet 2day @ 5\n",
      "Type 'yes' if you want to go again. Otherwise type 'no'. \n",
      "no\n",
      "Good Bye\n"
     ]
    }
   ],
   "source": [
    " alphabet = ['a', 'b', 'c', 'd', 'e', 'f', 'g', 'h', 'i', 'j', 'k', 'l', 'm', 'n',\n",
    "             'o', 'p', 'q', 'r', 's', 't', 'u', 'v', 'w', 'x', 'y', 'z',\n",
    "            'a', 'b', 'c', 'd', 'e', 'f', 'g', 'h', 'i', 'j', 'k', 'l', 'm', 'n',\n",
    "            'o', 'p', 'q', 'r', 's', 't', 'u', 'v', 'w', 'x', 'y', 'z']\n",
    "\n",
    "def caeser(text, shift, direction):\n",
    "    end_text = \"\"\n",
    "    if direction == \"decode\":\n",
    "        shift *= -1\n",
    "    for letter in text:\n",
    "        if letter not in alphabet:\n",
    "            end_text += letter\n",
    "        else:\n",
    "            position = alphabet.index(letter)\n",
    "            new_position = position + shift\n",
    "            end_text += alphabet[new_position]\n",
    "             \n",
    "    print(f\"The {direction}d text is {end_text}\") \n",
    "\n",
    "should_continue = True\n",
    "while should_continue:\n",
    "    direction = input(\"Type 'encode' to encrypt, type 'decode' to decrypt: \\n\")\n",
    "    text = input(\"Type your message: \\n\").lower()\n",
    "    shift = int(input(\"Type the shift number: \\n\"))\n",
    "\n",
    "    shift = shift % 26    \n",
    "    caeser(text, shift, direction)  \n",
    "    result = input(\"Type 'yes' if you want to go again. Otherwise type 'no'. \\n\")\n",
    "    \n",
    "    if result == 'no':\n",
    "        should_continue = False\n",
    "        print(\"Good Bye\")\n",
    "        \n"
   ]
  },
  {
   "cell_type": "code",
   "execution_count": 55,
   "id": "5be56906",
   "metadata": {},
   "outputs": [
    {
     "data": {
      "text/plain": [
       "'l'"
      ]
     },
     "execution_count": 55,
     "metadata": {},
     "output_type": "execute_result"
    }
   ],
   "source": [
    "l = \"hello\"\n",
    "l[-3]"
   ]
  },
  {
   "cell_type": "code",
   "execution_count": 87,
   "id": "ddd2e8d3",
   "metadata": {},
   "outputs": [
    {
     "data": {
      "text/plain": [
       "24"
      ]
     },
     "execution_count": 87,
     "metadata": {},
     "output_type": "execute_result"
    }
   ],
   "source": [
    "24 % 26"
   ]
  },
  {
   "cell_type": "code",
   "execution_count": null,
   "id": "9ab1e487",
   "metadata": {},
   "outputs": [],
   "source": []
  }
 ],
 "metadata": {
  "kernelspec": {
   "display_name": "Python 3",
   "language": "python",
   "name": "python3"
  },
  "language_info": {
   "codemirror_mode": {
    "name": "ipython",
    "version": 3
   },
   "file_extension": ".py",
   "mimetype": "text/x-python",
   "name": "python",
   "nbconvert_exporter": "python",
   "pygments_lexer": "ipython3",
   "version": "3.8.8"
  }
 },
 "nbformat": 4,
 "nbformat_minor": 5
}
