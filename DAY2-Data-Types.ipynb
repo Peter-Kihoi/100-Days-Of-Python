{
 "cells": [
  {
   "cell_type": "code",
   "execution_count": 7,
   "id": "2af87f68",
   "metadata": {},
   "outputs": [
    {
     "name": "stdout",
     "output_type": "stream",
     "text": [
      "l\n"
     ]
    }
   ],
   "source": [
    "print(\"Hello\"[-2])"
   ]
  },
  {
   "cell_type": "code",
   "execution_count": 11,
   "id": "330d772b",
   "metadata": {},
   "outputs": [
    {
     "name": "stdout",
     "output_type": "stream",
     "text": [
      "123456789\n"
     ]
    }
   ],
   "source": [
    "#Integer\n",
    "print(123_456_789)"
   ]
  },
  {
   "cell_type": "code",
   "execution_count": 12,
   "id": "828fd14a",
   "metadata": {},
   "outputs": [],
   "source": [
    "#float\n",
    "f = 3.14"
   ]
  },
  {
   "cell_type": "code",
   "execution_count": 13,
   "id": "8fa20aa1",
   "metadata": {},
   "outputs": [
    {
     "data": {
      "text/plain": [
       "False"
      ]
     },
     "execution_count": 13,
     "metadata": {},
     "output_type": "execute_result"
    }
   ],
   "source": [
    "#boolean\n",
    "True\n",
    "False"
   ]
  },
  {
   "cell_type": "code",
   "execution_count": 16,
   "id": "b27d8598",
   "metadata": {},
   "outputs": [
    {
     "name": "stdout",
     "output_type": "stream",
     "text": [
      "What is your name? Peter\n",
      "Your name has 5 Characters\n"
     ]
    },
    {
     "data": {
      "text/plain": [
       "int"
      ]
     },
     "execution_count": 16,
     "metadata": {},
     "output_type": "execute_result"
    }
   ],
   "source": [
    "num_char = len(input(\"What is your name? \"))\n",
    "\n",
    "print(\"Your name has {} Characters\".format(num_char))\n",
    "\n",
    "type(num_char)"
   ]
  },
  {
   "cell_type": "code",
   "execution_count": 21,
   "id": "e5c5249f",
   "metadata": {},
   "outputs": [
    {
     "name": "stdout",
     "output_type": "stream",
     "text": [
      "100\n"
     ]
    }
   ],
   "source": [
    "new_num_char = str(num_char)  #convers to a string\n",
    "\n",
    "num = 100.5\n",
    "new_num = int(num)\n",
    "\n",
    "print(new_num)"
   ]
  },
  {
   "cell_type": "code",
   "execution_count": 26,
   "id": "c78c8858",
   "metadata": {},
   "outputs": [
    {
     "name": "stdout",
     "output_type": "stream",
     "text": [
      "Type a two digit number: 39\n",
      "12\n"
     ]
    }
   ],
   "source": [
    "two_digit_number = input(\"Type a two digit number: \")\n",
    "\n",
    "num_1 = int(two_digit_number[0])\n",
    "num_2 = int(two_digit_number[1])\n",
    "\n",
    "print(num_1 + num_2)"
   ]
  },
  {
   "cell_type": "markdown",
   "id": "911cec70",
   "metadata": {},
   "source": [
    "## String"
   ]
  },
  {
   "cell_type": "code",
   "execution_count": 35,
   "id": "226ea645",
   "metadata": {},
   "outputs": [
    {
     "data": {
      "text/plain": [
       "'ter'"
      ]
     },
     "execution_count": 35,
     "metadata": {},
     "output_type": "execute_result"
    }
   ],
   "source": [
    "name = \"Peter Kihoi\"\n",
    "\n",
    "name[0]\n",
    "name[:1]\n",
    "name[::-1]\n",
    "name[2:5]"
   ]
  },
  {
   "cell_type": "code",
   "execution_count": 38,
   "id": "f4cc25ff",
   "metadata": {},
   "outputs": [
    {
     "data": {
      "text/plain": [
       "['Peter', 'Kihoi']"
      ]
     },
     "execution_count": 38,
     "metadata": {},
     "output_type": "execute_result"
    }
   ],
   "source": [
    "name.split()"
   ]
  },
  {
   "cell_type": "code",
   "execution_count": 39,
   "id": "4cb4a886",
   "metadata": {},
   "outputs": [
    {
     "data": {
      "text/plain": [
       "['P', 't', 'r Kihoi']"
      ]
     },
     "execution_count": 39,
     "metadata": {},
     "output_type": "execute_result"
    }
   ],
   "source": [
    "name.split('e')"
   ]
  },
  {
   "cell_type": "markdown",
   "id": "354020ea",
   "metadata": {},
   "source": [
    "## Numbers"
   ]
  },
  {
   "cell_type": "code",
   "execution_count": 41,
   "id": "e0485778",
   "metadata": {},
   "outputs": [
    {
     "data": {
      "text/plain": [
       "8"
      ]
     },
     "execution_count": 41,
     "metadata": {},
     "output_type": "execute_result"
    }
   ],
   "source": [
    "2**3"
   ]
  },
  {
   "cell_type": "code",
   "execution_count": 43,
   "id": "62a63a9f",
   "metadata": {},
   "outputs": [
    {
     "name": "stdout",
     "output_type": "stream",
     "text": [
      "3.0\n"
     ]
    }
   ],
   "source": [
    "print(3 * (3 + (3 / 3) - 3))"
   ]
  },
  {
   "cell_type": "markdown",
   "id": "158e7a18",
   "metadata": {},
   "source": [
    "### BMI calculator"
   ]
  },
  {
   "cell_type": "code",
   "execution_count": 1,
   "id": "b5117bba",
   "metadata": {},
   "outputs": [
    {
     "name": "stdout",
     "output_type": "stream",
     "text": [
      "enter your height in m:\n",
      "120\n",
      "enter your weight in kg:\n",
      "1.75\n",
      "0\n"
     ]
    }
   ],
   "source": [
    "height = float(input(\"enter your height in m:\\n\"))\n",
    "weight = float(input(\"enter your weight in kg:\\n\"))\n",
    "\n",
    "bmi = int(weight/(height**2))\n",
    "\n",
    "print(bmi)"
   ]
  },
  {
   "cell_type": "code",
   "execution_count": 48,
   "id": "b1622258",
   "metadata": {},
   "outputs": [
    {
     "data": {
      "text/plain": [
       "2.67"
      ]
     },
     "execution_count": 48,
     "metadata": {},
     "output_type": "execute_result"
    }
   ],
   "source": [
    "round(8/3, 2) # 2 number of decimal places"
   ]
  },
  {
   "cell_type": "code",
   "execution_count": 49,
   "id": "c661983e",
   "metadata": {},
   "outputs": [
    {
     "data": {
      "text/plain": [
       "2"
      ]
     },
     "execution_count": 49,
     "metadata": {},
     "output_type": "execute_result"
    }
   ],
   "source": [
    "8 // 3 # gives a whole number"
   ]
  },
  {
   "cell_type": "code",
   "execution_count": 51,
   "id": "70e1b178",
   "metadata": {},
   "outputs": [
    {
     "data": {
      "text/plain": [
       "10"
      ]
     },
     "execution_count": 51,
     "metadata": {},
     "output_type": "execute_result"
    }
   ],
   "source": [
    "score = 5\n",
    "\n",
    "score *= 2\n",
    "score"
   ]
  },
  {
   "cell_type": "code",
   "execution_count": 52,
   "id": "913961ad",
   "metadata": {},
   "outputs": [
    {
     "name": "stdout",
     "output_type": "stream",
     "text": [
      "The score was 10\n"
     ]
    }
   ],
   "source": [
    "print(f\"The score was {score}\")"
   ]
  },
  {
   "cell_type": "markdown",
   "id": "7be0f1ee",
   "metadata": {},
   "source": [
    "#### your life in weeks"
   ]
  },
  {
   "cell_type": "code",
   "execution_count": 54,
   "id": "8880aa1d",
   "metadata": {},
   "outputs": [
    {
     "name": "stdout",
     "output_type": "stream",
     "text": [
      "What is your current age? 21\n",
      "You have 25185 days, 3588 weeks, and 828 months left\n"
     ]
    }
   ],
   "source": [
    "age = input(\"What is your current age? \")\n",
    "\n",
    "years = 90 - int(age)\n",
    "days = 365 * years\n",
    "weeks = 52 * years\n",
    "months = 12 * years\n",
    "\n",
    "print(f\"You have {days} days, {weeks} weeks, and {months} months left\")"
   ]
  },
  {
   "cell_type": "markdown",
   "id": "1dac472d",
   "metadata": {},
   "source": [
    "### bill tip"
   ]
  },
  {
   "cell_type": "code",
   "execution_count": 71,
   "id": "948a04a1",
   "metadata": {},
   "outputs": [
    {
     "name": "stdout",
     "output_type": "stream",
     "text": [
      "welcome to the tip calculator.\n",
      "What was the total bill? $150\n",
      "What percentage tip would you like to give? 10, 12, or 15? 12\n",
      "How many people to split the bill? 5\n",
      "Each person should pay: $33.60\n"
     ]
    }
   ],
   "source": [
    "print(\"welcome to the tip calculator.\")\n",
    "\n",
    "bill = float(input(\"What was the total bill? $\"))\n",
    "perc = int(input(\"What percentage tip would you like to give? 10, 12, or 15? \"))\n",
    "people = int(input(\"How many people to split the bill? \"))\n",
    "\n",
    "perc +=100\n",
    "percentage = bill * (perc * 0.01)\n",
    "result = percentage / people\n",
    "final_results = \"{:.2f}\".format(result)\n",
    "print(f\"Each person should pay: ${final_results}\")"
   ]
  },
  {
   "cell_type": "code",
   "execution_count": null,
   "id": "6e5e4b03",
   "metadata": {},
   "outputs": [],
   "source": []
  },
  {
   "cell_type": "markdown",
   "id": "964d05d1",
   "metadata": {},
   "source": [
    "# List"
   ]
  },
  {
   "cell_type": "code",
   "execution_count": 88,
   "id": "14d13041",
   "metadata": {},
   "outputs": [
    {
     "name": "stdout",
     "output_type": "stream",
     "text": [
      "['one', 'two', 'three', 'four']\n",
      "[1, 2, 3, 4, 5, 6, 7]\n"
     ]
    }
   ],
   "source": [
    "my_list = ['one', 'two', 'three', 'four']\n",
    "num_list = [1,2,3,4,5,6,7]\n",
    "\n",
    "print(my_list)\n",
    "print(num_list)"
   ]
  },
  {
   "cell_type": "code",
   "execution_count": 89,
   "id": "78e613d6",
   "metadata": {},
   "outputs": [
    {
     "name": "stdout",
     "output_type": "stream",
     "text": [
      "4\n"
     ]
    }
   ],
   "source": [
    "print(len(my_list))"
   ]
  },
  {
   "cell_type": "code",
   "execution_count": 90,
   "id": "16c8d25c",
   "metadata": {},
   "outputs": [
    {
     "name": "stdout",
     "output_type": "stream",
     "text": [
      "['Jamo', 'two', 'three', 'four']\n"
     ]
    }
   ],
   "source": [
    "my_list[0] = 'Jamo'\n",
    "print(my_list)"
   ]
  },
  {
   "cell_type": "code",
   "execution_count": 91,
   "id": "d55fb4bd",
   "metadata": {},
   "outputs": [
    {
     "name": "stdout",
     "output_type": "stream",
     "text": [
      "['Jamo', 'two', 'three', 'four', 'five']\n"
     ]
    }
   ],
   "source": [
    "my_list.append('five')\n",
    "print(my_list)"
   ]
  },
  {
   "cell_type": "code",
   "execution_count": 92,
   "id": "9567ba68",
   "metadata": {},
   "outputs": [
    {
     "name": "stdout",
     "output_type": "stream",
     "text": [
      "['Jamo', 'two', 'three', 'four']\n"
     ]
    }
   ],
   "source": [
    "my_list.pop()\n",
    "print(my_list)"
   ]
  },
  {
   "cell_type": "code",
   "execution_count": 93,
   "id": "dd0b2c8b",
   "metadata": {},
   "outputs": [
    {
     "data": {
      "text/plain": [
       "'Jamo'"
      ]
     },
     "execution_count": 93,
     "metadata": {},
     "output_type": "execute_result"
    }
   ],
   "source": [
    "my_list.pop(0)"
   ]
  },
  {
   "cell_type": "code",
   "execution_count": 94,
   "id": "651672fe",
   "metadata": {},
   "outputs": [
    {
     "name": "stdout",
     "output_type": "stream",
     "text": [
      "[1, 2, 3, 4, 5, 6, 7, 8]\n"
     ]
    }
   ],
   "source": [
    "num_list = [2,1,3,5,4,8,6,7]\n",
    "num_list.sort()\n",
    "print(num_list)"
   ]
  },
  {
   "cell_type": "code",
   "execution_count": null,
   "id": "cbe33492",
   "metadata": {},
   "outputs": [],
   "source": []
  },
  {
   "cell_type": "code",
   "execution_count": 99,
   "id": "89e3141e",
   "metadata": {},
   "outputs": [
    {
     "data": {
      "text/plain": [
       "['two', 'three', 'four']"
      ]
     },
     "execution_count": 99,
     "metadata": {},
     "output_type": "execute_result"
    }
   ],
   "source": [
    "new_list = [\"zer0\", \"one\", \"two\", \"three\", \"four\", \"five\", \"six\", \"seven\"]\n",
    "new_list[2:5]"
   ]
  },
  {
   "cell_type": "code",
   "execution_count": 122,
   "id": "6f0d4780",
   "metadata": {},
   "outputs": [
    {
     "data": {
      "text/plain": [
       "['zer0',\n",
       " 'one',\n",
       " 'two',\n",
       " 'three',\n",
       " 'four',\n",
       " 'five',\n",
       " 'six',\n",
       " 'seven',\n",
       " 1,\n",
       " 2,\n",
       " 3,\n",
       " 4,\n",
       " 1,\n",
       " 2,\n",
       " 3,\n",
       " 4]"
      ]
     },
     "execution_count": 122,
     "metadata": {},
     "output_type": "execute_result"
    }
   ],
   "source": [
    "new_list.extend([1,2,3,4])\n",
    "new_list"
   ]
  },
  {
   "cell_type": "markdown",
   "id": "170d949f",
   "metadata": {},
   "source": [
    "# Dictionaries"
   ]
  },
  {
   "cell_type": "code",
   "execution_count": 102,
   "id": "fa83fe5f",
   "metadata": {},
   "outputs": [
    {
     "data": {
      "text/plain": [
       "{'key1': 'value1', 'key2': 'value2', 'key3': 'value3'}"
      ]
     },
     "execution_count": 102,
     "metadata": {},
     "output_type": "execute_result"
    }
   ],
   "source": [
    "my_dic = {'key1' : 'value1', 'key2':'value2', 'key3':'value3'}\n",
    "my_dic"
   ]
  },
  {
   "cell_type": "code",
   "execution_count": 103,
   "id": "96af814f",
   "metadata": {},
   "outputs": [
    {
     "data": {
      "text/plain": [
       "'value2'"
      ]
     },
     "execution_count": 103,
     "metadata": {},
     "output_type": "execute_result"
    }
   ],
   "source": [
    "my_dic['key2']"
   ]
  },
  {
   "cell_type": "code",
   "execution_count": 105,
   "id": "833e60bb",
   "metadata": {},
   "outputs": [
    {
     "data": {
      "text/plain": [
       "{'key1': 100, 'key2': 200, 'key3': 300}"
      ]
     },
     "execution_count": 105,
     "metadata": {},
     "output_type": "execute_result"
    }
   ],
   "source": [
    "d = {\"key1\":100, \"key2\":200, \"key3\":300}\n",
    "d"
   ]
  },
  {
   "cell_type": "code",
   "execution_count": 107,
   "id": "39f4426f",
   "metadata": {},
   "outputs": [
    {
     "data": {
      "text/plain": [
       "{'key1': 100, 'key2': 200, 'key3': 400}"
      ]
     },
     "execution_count": 107,
     "metadata": {},
     "output_type": "execute_result"
    }
   ],
   "source": [
    "d['key3'] = 400\n",
    "d"
   ]
  },
  {
   "cell_type": "code",
   "execution_count": 108,
   "id": "289bf0e9",
   "metadata": {},
   "outputs": [
    {
     "data": {
      "text/plain": [
       "dict_values([100, 200, 400])"
      ]
     },
     "execution_count": 108,
     "metadata": {},
     "output_type": "execute_result"
    }
   ],
   "source": [
    "d.values()"
   ]
  },
  {
   "cell_type": "code",
   "execution_count": 109,
   "id": "90513ee3",
   "metadata": {},
   "outputs": [
    {
     "data": {
      "text/plain": [
       "dict_keys(['key1', 'key2', 'key3'])"
      ]
     },
     "execution_count": 109,
     "metadata": {},
     "output_type": "execute_result"
    }
   ],
   "source": [
    "d.keys()"
   ]
  },
  {
   "cell_type": "code",
   "execution_count": 110,
   "id": "14a1abb6",
   "metadata": {},
   "outputs": [
    {
     "data": {
      "text/plain": [
       "dict_items([('key1', 100), ('key2', 200), ('key3', 400)])"
      ]
     },
     "execution_count": 110,
     "metadata": {},
     "output_type": "execute_result"
    }
   ],
   "source": [
    "d.items()"
   ]
  },
  {
   "cell_type": "code",
   "execution_count": null,
   "id": "be37adab",
   "metadata": {},
   "outputs": [],
   "source": []
  },
  {
   "cell_type": "markdown",
   "id": "97716f34",
   "metadata": {},
   "source": [
    "# tuples\n",
    "### immutable => cannot be changed"
   ]
  },
  {
   "cell_type": "code",
   "execution_count": 114,
   "id": "51ab609d",
   "metadata": {},
   "outputs": [
    {
     "data": {
      "text/plain": [
       "(1, 2, 3, 3, 3, 3, 4, 5)"
      ]
     },
     "execution_count": 114,
     "metadata": {},
     "output_type": "execute_result"
    }
   ],
   "source": [
    "my_tup = (1,2,3,3,3,3,4,5)\n",
    "my_tup"
   ]
  },
  {
   "cell_type": "code",
   "execution_count": 115,
   "id": "060e9905",
   "metadata": {},
   "outputs": [
    {
     "data": {
      "text/plain": [
       "4"
      ]
     },
     "execution_count": 115,
     "metadata": {},
     "output_type": "execute_result"
    }
   ],
   "source": [
    "my_tup.count(3) #How many times it appear"
   ]
  },
  {
   "cell_type": "code",
   "execution_count": null,
   "id": "cd100d44",
   "metadata": {},
   "outputs": [],
   "source": []
  },
  {
   "cell_type": "markdown",
   "id": "607cac82",
   "metadata": {},
   "source": [
    "# Sets\n",
    "### unique elements"
   ]
  },
  {
   "cell_type": "code",
   "execution_count": 117,
   "id": "01426bc4",
   "metadata": {},
   "outputs": [
    {
     "data": {
      "text/plain": [
       "{1, 2, 3, 4}"
      ]
     },
     "execution_count": 117,
     "metadata": {},
     "output_type": "execute_result"
    }
   ],
   "source": [
    "my_set = set()\n",
    "my_set.add(1)\n",
    "my_set.add(1)\n",
    "my_set.add(2)\n",
    "my_set.add(3)\n",
    "my_set.add(4)\n",
    "my_set"
   ]
  },
  {
   "cell_type": "code",
   "execution_count": 119,
   "id": "853f8cf3",
   "metadata": {},
   "outputs": [
    {
     "data": {
      "text/plain": [
       "{1, 2, 3, 4, 5, 6, 7}"
      ]
     },
     "execution_count": 119,
     "metadata": {},
     "output_type": "execute_result"
    }
   ],
   "source": [
    "list = [1,2,3,3,4,5,6,5,7]\n",
    "\n",
    "set(list)      #A list to a set"
   ]
  },
  {
   "cell_type": "code",
   "execution_count": 120,
   "id": "f3c6200d",
   "metadata": {},
   "outputs": [
    {
     "data": {
      "text/plain": [
       "(1, 2, 3, 3, 4, 5, 6, 5, 7)"
      ]
     },
     "execution_count": 120,
     "metadata": {},
     "output_type": "execute_result"
    }
   ],
   "source": [
    "tuple(list)"
   ]
  },
  {
   "cell_type": "code",
   "execution_count": null,
   "id": "66ce7435",
   "metadata": {},
   "outputs": [],
   "source": []
  }
 ],
 "metadata": {
  "kernelspec": {
   "display_name": "Python 3",
   "language": "python",
   "name": "python3"
  },
  "language_info": {
   "codemirror_mode": {
    "name": "ipython",
    "version": 3
   },
   "file_extension": ".py",
   "mimetype": "text/x-python",
   "name": "python",
   "nbconvert_exporter": "python",
   "pygments_lexer": "ipython3",
   "version": "3.8.8"
  }
 },
 "nbformat": 4,
 "nbformat_minor": 5
}
