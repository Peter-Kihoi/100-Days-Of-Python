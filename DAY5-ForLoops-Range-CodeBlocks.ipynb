{
 "cells": [
  {
   "cell_type": "markdown",
   "id": "033fa616",
   "metadata": {},
   "source": [
    "## loops"
   ]
  },
  {
   "cell_type": "code",
   "execution_count": 8,
   "id": "9cdad8f3",
   "metadata": {},
   "outputs": [
    {
     "name": "stdout",
     "output_type": "stream",
     "text": [
      "Apple\n",
      "Mellon\n",
      "Orange\n",
      "Banana\n",
      "Banana\n"
     ]
    }
   ],
   "source": [
    "fruits = [\"Apple\", \"Mellon\", \"Orange\", \"Banana\"]\n",
    "for fruit in fruits:\n",
    "    print(fruit)\n",
    "print(fruit)"
   ]
  },
  {
   "cell_type": "markdown",
   "id": "d1860395",
   "metadata": {},
   "source": [
    "## Average height"
   ]
  },
  {
   "cell_type": "code",
   "execution_count": 27,
   "id": "18cc17fc",
   "metadata": {},
   "outputs": [
    {
     "name": "stdout",
     "output_type": "stream",
     "text": [
      "input a list of student heights 180 124 165 173 189 169 146\n",
      "[180, 124, 165, 173, 189, 169, 146]\n",
      "164\n"
     ]
    }
   ],
   "source": [
    "student_heights = input(\"input a list of student heights \").split()\n",
    "\n",
    "for n in range(0, len(student_heights)):\n",
    "    student_heights[n] = int(student_heights[n])\n",
    "    \n",
    "print(student_heights)\n",
    "total = 0;\n",
    "count = 0\n",
    "for h in student_heights:\n",
    "    total += h\n",
    "    count += 1\n",
    "average = total/count\n",
    "print(round(average))\n",
    "\n",
    "#180 124 165 173 189 169 146  "
   ]
  },
  {
   "cell_type": "markdown",
   "id": "422f7f55",
   "metadata": {},
   "source": [
    "## Highest Score using for loop"
   ]
  },
  {
   "cell_type": "code",
   "execution_count": 4,
   "id": "ced5528a",
   "metadata": {},
   "outputs": [
    {
     "name": "stdout",
     "output_type": "stream",
     "text": [
      "The highest score is 91\n"
     ]
    }
   ],
   "source": [
    "scores = [78, 65, 89, 86, 55, 91, 64, 89]\n",
    "# max(scores)\n",
    "# min(scores)\n",
    "\n",
    "                #for loop\n",
    "y = 0;\n",
    "for score in scores:\n",
    "    if score > y:\n",
    "        y = score\n",
    "print(f\"The highest score is {y}\")"
   ]
  },
  {
   "cell_type": "markdown",
   "id": "1fcc7608",
   "metadata": {},
   "source": [
    "## RANGE()"
   ]
  },
  {
   "cell_type": "code",
   "execution_count": 7,
   "id": "e7bba082",
   "metadata": {},
   "outputs": [
    {
     "name": "stdout",
     "output_type": "stream",
     "text": [
      "5050\n"
     ]
    }
   ],
   "source": [
    "total = 0;\n",
    "for no in range(1, 101):\n",
    "    total += no\n",
    "    \n",
    "print(total)"
   ]
  },
  {
   "cell_type": "markdown",
   "id": "bf4a9610",
   "metadata": {},
   "source": [
    "## Adding Evens"
   ]
  },
  {
   "cell_type": "code",
   "execution_count": 8,
   "id": "056c8f9e",
   "metadata": {},
   "outputs": [
    {
     "name": "stdout",
     "output_type": "stream",
     "text": [
      "2550\n"
     ]
    }
   ],
   "source": [
    "total = 0\n",
    "for no in range(2,101,2):\n",
    "    total += no\n",
    "    \n",
    "print(total)"
   ]
  },
  {
   "cell_type": "markdown",
   "id": "ce11ce9b",
   "metadata": {},
   "source": [
    "## FizzBuz"
   ]
  },
  {
   "cell_type": "code",
   "execution_count": 11,
   "id": "c5601fdd",
   "metadata": {},
   "outputs": [],
   "source": [
    "for n in range(1,101):\n",
    "    if n % 3 == 0 and n % 5 == 0:\n",
    "        print(\"FizzBuzz\")\n",
    "    elif n % 3 == 0: \n",
    "        print('Fizz')\n",
    "    elif n % 5 == 0:\n",
    "        print('Buzz')\n",
    "    else:\n",
    "        print(n)"
   ]
  },
  {
   "cell_type": "markdown",
   "id": "3cac3282",
   "metadata": {},
   "source": [
    "## Password Generator"
   ]
  },
  {
   "cell_type": "code",
   "execution_count": 27,
   "id": "8c77ba3f",
   "metadata": {},
   "outputs": [
    {
     "name": "stdout",
     "output_type": "stream",
     "text": [
      "Welcome to the PyPassword Generato!\n",
      "How many letters would you like in your password?\n",
      "5\n",
      "How many symbols would you like?\n",
      "3\n",
      "How many numbers would you like?\n",
      "3\n",
      "6c+$z0wo+8b\n"
     ]
    }
   ],
   "source": [
    "import random\n",
    "letters = ['a', 'b', 'c', 'd', 'e', 'f', 'g', 'h', 'i', 'j', 'k', 'l', 'm', 'n', 'o', 'p', 'q', 'r', 's', 't', 'u', 'v', 'w', 'x', 'y', 'z', 'A', 'B', 'C', 'D', 'E', 'F', 'G', 'H', 'I', 'J', 'K', 'L', 'M', 'N', 'O', 'P', 'Q', 'R', 'S', 'T', 'U', 'V', 'W', 'X', 'Y', 'Z']\n",
    "numbers = ['0', '1', '2', '3', '4','5','6','7','8','9']\n",
    "symbols = ['!', '#' , '$' , '%' , '&', '(', ')', '*' ,'+']\n",
    "\n",
    "print(\"Welcome to the PyPassword Generato!\")\n",
    "nr_letters = int(input(\"How many letters would you like in your password?\\n\"))\n",
    "nr_symbols = int(input(\"How many symbols would you like?\\n\"))\n",
    "nr_numbers = int(input(\"How many numbers would you like?\\n\"))\n",
    "\n",
    "pass_letters = []\n",
    "pass_symbols = []\n",
    "pass_no = []\n",
    "for n1 in range(0, nr_letters):\n",
    "    pass_letters.append(random.choice(letters))\n",
    "\n",
    "for n1 in range(0, nr_symbols):\n",
    "    pass_symbols.append(random.choice(symbols))\n",
    "    \n",
    "for n1 in range(0, nr_numbers):\n",
    "    pass_no.append(random.choice(numbers))\n",
    "    \n",
    "list_password = pass_letters + pass_symbols + pass_no\n",
    "random.shuffle(list_password)\n",
    "password = ''.join(list_password)\n",
    "\n",
    "print(password)\n",
    "           "
   ]
  },
  {
   "cell_type": "markdown",
   "id": "76acff2b",
   "metadata": {},
   "source": [
    "## zip function"
   ]
  },
  {
   "cell_type": "code",
   "execution_count": 18,
   "id": "5dcd61a2",
   "metadata": {},
   "outputs": [
    {
     "name": "stdout",
     "output_type": "stream",
     "text": [
      "(1, 'one', 'apple')\n",
      "(2, 'two', 'orange')\n",
      "(3, 'three', 'banana')\n",
      "(4, 'four', 'grapes')\n"
     ]
    }
   ],
   "source": [
    "list1 = [1,2,3,4]\n",
    "list2 = [\"one\", \"two\", \"three\", \"four\"]\n",
    "list3 = [\"apple\", \"orange\", \"banana\", \"grapes\"]\n",
    "\n",
    "for item in zip(list1, list2, list3):\n",
    "    print(item)"
   ]
  },
  {
   "cell_type": "markdown",
   "id": "520f0448",
   "metadata": {},
   "source": [
    "## List comprehension"
   ]
  },
  {
   "cell_type": "code",
   "execution_count": 20,
   "id": "7f2ab4a4",
   "metadata": {},
   "outputs": [
    {
     "data": {
      "text/plain": [
       "['P', 'e', 't', 'e', 'r']"
      ]
     },
     "execution_count": 20,
     "metadata": {},
     "output_type": "execute_result"
    }
   ],
   "source": [
    "myList = [x for x in \"Peter\"]\n",
    "myList"
   ]
  },
  {
   "cell_type": "code",
   "execution_count": 23,
   "id": "507d5dbc",
   "metadata": {},
   "outputs": [
    {
     "data": {
      "text/plain": [
       "[1, 4, 9, 16, 25, 36, 49, 64, 81, 100]"
      ]
     },
     "execution_count": 23,
     "metadata": {},
     "output_type": "execute_result"
    }
   ],
   "source": [
    "myList = [num**2 for num in range(1,11)]\n",
    "myList"
   ]
  },
  {
   "cell_type": "code",
   "execution_count": 25,
   "id": "aba08248",
   "metadata": {},
   "outputs": [
    {
     "data": {
      "text/plain": [
       "[0, 2, 4, 6, 8]"
      ]
     },
     "execution_count": 25,
     "metadata": {},
     "output_type": "execute_result"
    }
   ],
   "source": [
    "evenList = [even for even in range(10) if even % 2 == 0]\n",
    "evenList"
   ]
  },
  {
   "cell_type": "code",
   "execution_count": 26,
   "id": "696eea4a",
   "metadata": {},
   "outputs": [
    {
     "data": {
      "text/plain": [
       "[32.0, 50.0, 68.0, 94.1]"
      ]
     },
     "execution_count": 26,
     "metadata": {},
     "output_type": "execute_result"
    }
   ],
   "source": [
    "celcius = [0, 10, 20, 34.5]\n",
    "fahrenheit = [((9/5)*temp + 32) for temp in celcius]\n",
    "fahrenheit"
   ]
  },
  {
   "cell_type": "code",
   "execution_count": null,
   "id": "f84133cb",
   "metadata": {},
   "outputs": [],
   "source": []
  }
 ],
 "metadata": {
  "kernelspec": {
   "display_name": "Python 3",
   "language": "python",
   "name": "python3"
  },
  "language_info": {
   "codemirror_mode": {
    "name": "ipython",
    "version": 3
   },
   "file_extension": ".py",
   "mimetype": "text/x-python",
   "name": "python",
   "nbconvert_exporter": "python",
   "pygments_lexer": "ipython3",
   "version": "3.8.8"
  }
 },
 "nbformat": 4,
 "nbformat_minor": 5
}
