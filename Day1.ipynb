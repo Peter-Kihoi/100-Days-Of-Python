{
 "cells": [
  {
   "cell_type": "code",
   "execution_count": 14,
   "id": "6078da18",
   "metadata": {},
   "outputs": [
    {
     "name": "stdout",
     "output_type": "stream",
     "text": [
      "print('what to print')\n",
      "Hello Angela Yu\n"
     ]
    }
   ],
   "source": [
    "print(\"print('what to print')\\nHello \" + \"Angela Yu\")"
   ]
  },
  {
   "cell_type": "code",
   "execution_count": 36,
   "id": "4e6dd4d7",
   "metadata": {},
   "outputs": [
    {
     "name": "stdout",
     "output_type": "stream",
     "text": [
      "Welcome to the Band Name Generator\n",
      "What is the name of the city you grew up in?\n",
      " Engineer\n",
      "what is your pet's name?\n",
      " Kagui\n",
      "Your band name could be Engineer Kagui\n"
     ]
    }
   ],
   "source": [
    "print(\"Welcome to the Band Name Generator\")\n",
    "city = input('What is the name of the city you grew up in?\\n ')\n",
    "name = input(\"what is your pet's name?\\n \")\n",
    "\n",
    "print (\"Your band name could be \" + city + \" \" + name)\n"
   ]
  },
  {
   "cell_type": "code",
   "execution_count": 25,
   "id": "2d4bf47c",
   "metadata": {},
   "outputs": [
    {
     "name": "stdout",
     "output_type": "stream",
     "text": [
      "What is your first name? Peter\n",
      "What is your last name? Kihoi\n",
      "Hello Peter Kihoi\n"
     ]
    }
   ],
   "source": [
    "print(\"Hello \" + input(\"What is your first name? \") + \" \" + input(\"What is your last name? \"))"
   ]
  },
  {
   "cell_type": "code",
   "execution_count": 30,
   "id": "fc7c98ed",
   "metadata": {},
   "outputs": [
    {
     "name": "stdout",
     "output_type": "stream",
     "text": [
      "What is your name? Angela\n",
      "6\n"
     ]
    }
   ],
   "source": [
    "name = input(\"What is your name? \")\n",
    "print(len(name))"
   ]
  },
  {
   "cell_type": "code",
   "execution_count": 34,
   "id": "267e405e",
   "metadata": {},
   "outputs": [
    {
     "name": "stdout",
     "output_type": "stream",
     "text": [
      "a: 3\n",
      "b: 6\n",
      "a = 6\n",
      "b = 3\n"
     ]
    }
   ],
   "source": [
    "a = input(\"a: \")\n",
    "b = input(\"b: \")\n",
    "\n",
    "c = a\n",
    "a = b\n",
    "b = c\n",
    "\n",
    "print(\"a = \" + a)\n",
    "print(\"b = \" + b)"
   ]
  },
  {
   "cell_type": "code",
   "execution_count": null,
   "id": "860d582e",
   "metadata": {},
   "outputs": [],
   "source": []
  }
 ],
 "metadata": {
  "kernelspec": {
   "display_name": "Python 3",
   "language": "python",
   "name": "python3"
  },
  "language_info": {
   "codemirror_mode": {
    "name": "ipython",
    "version": 3
   },
   "file_extension": ".py",
   "mimetype": "text/x-python",
   "name": "python",
   "nbconvert_exporter": "python",
   "pygments_lexer": "ipython3",
   "version": "3.8.8"
  }
 },
 "nbformat": 4,
 "nbformat_minor": 5
}
