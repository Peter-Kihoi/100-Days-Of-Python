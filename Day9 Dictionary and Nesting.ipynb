{
 "cells": [
  {
   "cell_type": "markdown",
   "id": "daf03c1a",
   "metadata": {},
   "source": [
    "## Dictionary"
   ]
  },
  {
   "cell_type": "code",
   "execution_count": 13,
   "id": "deb389be",
   "metadata": {},
   "outputs": [
    {
     "name": "stdout",
     "output_type": "stream",
     "text": [
      "an error\n",
      "{'key1': 'an error', 'key2': 'value2', 'key3': 'value3', 'loop': 'Over and Over again'}\n"
     ]
    }
   ],
   "source": [
    "my_dict = {\n",
    "    \"key1\": \"value1\",\n",
    "    \"key2\": \"value2\",\n",
    "    \"key3\": \"value3\",\n",
    "}\n",
    "\n",
    "#Edit an item in dictionary\n",
    "my_dict['key1'] = \"an error\"\n",
    "\n",
    "#Adding a new entry\n",
    "my_dict[\"loop\"] = \"Over and Over again\"\n",
    "print(my_dict['key1'])\n",
    "print(my_dict)"
   ]
  },
  {
   "cell_type": "code",
   "execution_count": 14,
   "id": "dac6ec88",
   "metadata": {},
   "outputs": [
    {
     "data": {
      "text/plain": [
       "dict_keys(['key1', 'key2', 'key3', 'loop'])"
      ]
     },
     "execution_count": 14,
     "metadata": {},
     "output_type": "execute_result"
    }
   ],
   "source": [
    "my_dict.keys()"
   ]
  },
  {
   "cell_type": "code",
   "execution_count": 15,
   "id": "ecd22b79",
   "metadata": {},
   "outputs": [
    {
     "data": {
      "text/plain": [
       "dict_items([('key1', 'an error'), ('key2', 'value2'), ('key3', 'value3'), ('loop', 'Over and Over again')])"
      ]
     },
     "execution_count": 15,
     "metadata": {},
     "output_type": "execute_result"
    }
   ],
   "source": [
    "my_dict.items()"
   ]
  },
  {
   "cell_type": "code",
   "execution_count": 16,
   "id": "5531dd74",
   "metadata": {},
   "outputs": [],
   "source": [
    "#creating an empty dictionary\n",
    "empty_dict = {}\n",
    "my_dict['key1'] = \"value 1\"\n",
    "\n",
    "#wipe an existing dictionary\n",
    "my_dict = {}\n"
   ]
  },
  {
   "cell_type": "code",
   "execution_count": 20,
   "id": "e1d02e2d",
   "metadata": {},
   "outputs": [
    {
     "name": "stdout",
     "output_type": "stream",
     "text": [
      "key1\n",
      "value 1\n",
      "key2\n",
      "value 2\n",
      "key3\n",
      "value 3\n"
     ]
    }
   ],
   "source": [
    "my_dict = {\n",
    "    \"key1\": \"value 1\",\n",
    "    \"key2\": \"value 2\",\n",
    "    \"key3\": \"value 3\",\n",
    "}\n",
    "#Loop through a dictionary\n",
    "for key in my_dict:\n",
    "    print(key)\n",
    "    print(my_dict[key])"
   ]
  },
  {
   "cell_type": "markdown",
   "id": "c3cdfde2",
   "metadata": {},
   "source": [
    "## Grading Program"
   ]
  },
  {
   "cell_type": "code",
   "execution_count": 24,
   "id": "e4ec2062",
   "metadata": {},
   "outputs": [
    {
     "name": "stdout",
     "output_type": "stream",
     "text": [
      "{'Harry': 'Exceeds Expectations', 'Ron': 'Acceptable', 'Hermione': 'Outstanding', 'Draco': 'Acceptable', 'Neville': 'Fail'}\n"
     ]
    }
   ],
   "source": [
    "student_scores = {\n",
    "    \"Harry\": 81,\n",
    "    \"Ron\": 78,\n",
    "    \"Hermione\": 99,\n",
    "    \"Draco\": 74,\n",
    "    \"Neville\": 62,\n",
    "}\n",
    "\n",
    "student_grades = {}\n",
    "\n",
    "for student in student_scores:\n",
    "    if student_scores[student] <= 70:\n",
    "        student_grades[student] = \"Fail\"\n",
    "    elif student_scores[student] <= 80:\n",
    "        student_grades[student] = \"Acceptable\"\n",
    "    elif student_scores[student] <= 90:\n",
    "        student_grades[student] = \"Exceeds Expectations\"\n",
    "    else:\n",
    "        student_grades[student] = \"Outstanding\"\n",
    "        \n",
    "print(student_grades)\n"
   ]
  },
  {
   "cell_type": "markdown",
   "id": "bdb9427c",
   "metadata": {},
   "source": [
    " ## Nesting"
   ]
  },
  {
   "cell_type": "code",
   "execution_count": 37,
   "id": "15ed0063",
   "metadata": {},
   "outputs": [
    {
     "name": "stdout",
     "output_type": "stream",
     "text": [
      "['Paris', 'Lille', 'Dijon']\n",
      "['Kawangware', 'Dandora', 'Landi']\n"
     ]
    }
   ],
   "source": [
    "#Nesting a list in a dictionary\n",
    "travel_log =  {\n",
    "    \"france\" : [\"Paris\", \"Lille\", \"Dijon\"],\n",
    "    \"German\" : [\"Berlin\", \"Hamburg\", \"Stuttgart\"],\n",
    "    \"Kenya\" : [\"Nairobi\", \"Mombasa\", \"Nakuru\"],\n",
    "}\n",
    "\n",
    "#Nesting dictionary to dictionary\n",
    "travel_log =  {\n",
    "    \"france\" : {\"cities_visited\" : [\"Paris\", \"Lille\", \"Dijon\"], \"total_visits\":12},\n",
    "    \"German\" : [\"Berlin\", \"Hamburg\", \"Stuttgart\"],\n",
    "    \"Kenya\" : {\"Nairobi\":[\"Kawangware\", \"Dandora\", \"Landi\"], \"Mombasa\":\"Diani\", \"Nakuru\": \"Naivasha\",}\n",
    "}\n",
    "print(travel_log[\"france\"][\"cities_visited\"])\n",
    "print(travel_log[\"Kenya\"][\"Nairobi\"])\n"
   ]
  },
  {
   "cell_type": "code",
   "execution_count": 44,
   "id": "0a94c6f9",
   "metadata": {},
   "outputs": [
    {
     "data": {
      "text/plain": [
       "['Paris', 'Lille', 'Dijon']"
      ]
     },
     "execution_count": 44,
     "metadata": {},
     "output_type": "execute_result"
    }
   ],
   "source": [
    "#Dictionary inside a list\n",
    "\n",
    "my_list = [\n",
    "    {\n",
    "        \"country\": \"france\",\n",
    "        \"cities_visited\" : [\"Paris\", \"Lille\", \"Dijon\"],\n",
    "        \"total_visits\":12,\n",
    "    },\n",
    "    {\n",
    "        \"country\": \"Kenya\",\n",
    "        \"cities_visited\":[\"Nairobi\", \"Mombasa\", \"Nakuru\"],\n",
    "        \"total_visits\" : 54,\n",
    "    },\n",
    "]\n",
    "my_list[0]['cities_visited']"
   ]
  },
  {
   "cell_type": "markdown",
   "id": "3d70f599",
   "metadata": {},
   "source": [
    "  ## Exercise "
   ]
  },
  {
   "cell_type": "code",
   "execution_count": 51,
   "id": "cea4993f",
   "metadata": {},
   "outputs": [
    {
     "data": {
      "text/plain": [
       "[{'country': 'france',\n",
       "  'total_visits': 12,\n",
       "  'cities_visited': ['Paris', 'Lille', 'Dijon']},\n",
       " {'country': 'Kenya',\n",
       "  'total_visits': 54,\n",
       "  'cities_visited': ['Nairobi', 'Mombasa', 'Nakuru']},\n",
       " {'country': 'Russia',\n",
       "  'total_visits': 2,\n",
       "  'cities_visited': ['Moscow', 'Saint PetersBurg']}]"
      ]
     },
     "execution_count": 51,
     "metadata": {},
     "output_type": "execute_result"
    }
   ],
   "source": [
    "\n",
    "travel_log = [\n",
    "    {\n",
    "        \"country\": \"france\",\n",
    "        \"total_visits\":12,\n",
    "        \"cities_visited\" : [\"Paris\", \"Lille\", \"Dijon\"],\n",
    "    },\n",
    "    {\n",
    "        \"country\": \"Kenya\",\n",
    "        \"total_visits\" : 54,\n",
    "        \"cities_visited\":[\"Nairobi\", \"Mombasa\", \"Nakuru\"],\n",
    "    },\n",
    "]\n",
    "def add_new_country(country, visits, cities):\n",
    "    dict = {}\n",
    "    dict[\"country\"] = country\n",
    "    dict[\"total_visits\"] = visits\n",
    "    dict[\"cities_visited\"] = cities\n",
    "    \n",
    "    travel_log.append(dict)\n",
    "    \n",
    "\n",
    "add_new_country(\"Russia\", 2, [\"Moscow\", \"Saint PetersBurg\"])\n",
    "travel_log\n",
    "\n"
   ]
  },
  {
   "cell_type": "code",
   "execution_count": null,
   "id": "44a3ed43",
   "metadata": {},
   "outputs": [],
   "source": []
  },
  {
   "cell_type": "markdown",
   "id": "711e0c37",
   "metadata": {},
   "source": []
  },
  {
   "cell_type": "code",
   "execution_count": 2,
   "id": "c8a18728",
   "metadata": {},
   "outputs": [
    {
     "name": "stdout",
     "output_type": "stream",
     "text": [
      "Enter your name: peter\n",
      "Enter your Bid price: $3456\n",
      "Is there other users. 'yes' or 'no'yes\n",
      "Enter your name: Jane\n",
      "Enter your Bid price: $56\n",
      "Is there other users. 'yes' or 'no'yes\n",
      "Enter your name: kamau\n",
      "Enter your Bid price: $456123\n",
      "Is there other users. 'yes' or 'no'no\n",
      "The winner is kamau with a bid of $456123\n"
     ]
    }
   ],
   "source": [
    "bids = {}\n",
    "\n",
    "continue_bidding = True\n",
    "\n",
    "def find_highest_bidder(bidding_record):\n",
    "    highest_bid = 0\n",
    "    winner = \"\"\n",
    "    \n",
    "    for bidder in bidding_record:\n",
    "        bid_amount = bidding_record[bidder]\n",
    "        if bid_amount > highest_bid:\n",
    "            highest_bid = bid_amount\n",
    "            winner = bidder\n",
    "            \n",
    "    print(f\"The winner is {winner} with a bid of ${highest_bid}\")\n",
    "\n",
    "while continue_bidding:\n",
    "    name = input(\"Enter your name: \")\n",
    "    price = int(input(\"Enter your Bid price: $\"))\n",
    "    bids[name] = price\n",
    "    \n",
    "    others = input(\"Is there other users. 'yes' or 'no'\")\n",
    "    if others == 'no':\n",
    "        continue_bidding = False\n",
    "        find_highest_bidder(bids)\n",
    "\n",
    "        \n"
   ]
  },
  {
   "cell_type": "code",
   "execution_count": null,
   "id": "74c295eb",
   "metadata": {},
   "outputs": [],
   "source": []
  }
 ],
 "metadata": {
  "kernelspec": {
   "display_name": "Python 3",
   "language": "python",
   "name": "python3"
  },
  "language_info": {
   "codemirror_mode": {
    "name": "ipython",
    "version": 3
   },
   "file_extension": ".py",
   "mimetype": "text/x-python",
   "name": "python",
   "nbconvert_exporter": "python",
   "pygments_lexer": "ipython3",
   "version": "3.8.8"
  }
 },
 "nbformat": 4,
 "nbformat_minor": 5
}
