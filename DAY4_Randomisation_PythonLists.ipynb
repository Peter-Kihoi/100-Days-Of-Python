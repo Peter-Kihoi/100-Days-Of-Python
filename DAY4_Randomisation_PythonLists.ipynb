{
 "cells": [
  {
   "cell_type": "markdown",
   "id": "cec7f546",
   "metadata": {},
   "source": [
    "## Random"
   ]
  },
  {
   "cell_type": "code",
   "execution_count": 7,
   "id": "1204c61a",
   "metadata": {},
   "outputs": [],
   "source": [
    "import random"
   ]
  },
  {
   "cell_type": "code",
   "execution_count": 9,
   "id": "833dd864",
   "metadata": {},
   "outputs": [
    {
     "name": "stdout",
     "output_type": "stream",
     "text": [
      "4\n"
     ]
    }
   ],
   "source": [
    "random_int = random.randint(1,10)\n",
    "print(random_int)"
   ]
  },
  {
   "cell_type": "code",
   "execution_count": 22,
   "id": "12f203cc",
   "metadata": {},
   "outputs": [
    {
     "name": "stdout",
     "output_type": "stream",
     "text": [
      "0.98\n"
     ]
    }
   ],
   "source": [
    "rand_float = round(random.random() * 5, 2)\n",
    "print(rand_float)"
   ]
  },
  {
   "cell_type": "code",
   "execution_count": 4,
   "id": "8da516a9",
   "metadata": {},
   "outputs": [],
   "source": [
    "rock = '''\n",
    "    _______\n",
    "---'   ____)\n",
    "      (_____)\n",
    "      (_____)\n",
    "      (____)\n",
    "---.__(___)\n",
    "'''\n",
    "\n",
    "paper = '''\n",
    "    _______\n",
    "---'   ____)____\n",
    "          ______)\n",
    "          _______)\n",
    "         _______)\n",
    "---.__________)\n",
    "'''\n",
    "scissors = '''\n",
    "    _______\n",
    "---'   ____)____\n",
    "          ______)\n",
    "       __________)\n",
    "      (____)\n",
    "---.__(___)\n",
    "'''"
   ]
  },
  {
   "cell_type": "code",
   "execution_count": 5,
   "id": "a93bd903",
   "metadata": {},
   "outputs": [
    {
     "name": "stdout",
     "output_type": "stream",
     "text": [
      "\n",
      "    _______\n",
      "---'   ____)____\n",
      "          ______)\n",
      "          _______)\n",
      "         _______)\n",
      "---.__________)\n",
      "\n"
     ]
    }
   ],
   "source": [
    "print(paper)"
   ]
  },
  {
   "cell_type": "markdown",
   "id": "f79ecae2",
   "metadata": {},
   "source": [
    "## Head or Tail"
   ]
  },
  {
   "cell_type": "code",
   "execution_count": 17,
   "id": "dfff93b4",
   "metadata": {},
   "outputs": [
    {
     "name": "stdout",
     "output_type": "stream",
     "text": [
      "Head\n"
     ]
    }
   ],
   "source": [
    "rand_no = random.randint(0,1)\n",
    "\n",
    "if rand_no == 0:\n",
    "    print(\"Head\")\n",
    "else:\n",
    "    print(\"Tail\")"
   ]
  },
  {
   "cell_type": "markdown",
   "id": "6f883a29",
   "metadata": {},
   "source": [
    "## List"
   ]
  },
  {
   "cell_type": "code",
   "execution_count": 21,
   "id": "553c0bda",
   "metadata": {},
   "outputs": [
    {
     "data": {
      "text/plain": [
       "[1, 2, 3, 4, 5]"
      ]
     },
     "execution_count": 21,
     "metadata": {},
     "output_type": "execute_result"
    }
   ],
   "source": [
    "my_list = [1,2,3,4,5]\n",
    "my_list.append(5)\n",
    "my_list.pop()\n",
    "my_list"
   ]
  },
  {
   "cell_type": "code",
   "execution_count": 23,
   "id": "9a03d82c",
   "metadata": {},
   "outputs": [
    {
     "data": {
      "text/plain": [
       "[2, 3, 4]"
      ]
     },
     "execution_count": 23,
     "metadata": {},
     "output_type": "execute_result"
    }
   ],
   "source": [
    "my_list[1:4]"
   ]
  },
  {
   "cell_type": "code",
   "execution_count": 24,
   "id": "7bb7da71",
   "metadata": {},
   "outputs": [],
   "source": [
    "new_list= [\"one\", \"two\", \"three\", \"four\", \"five\"]\n",
    "\n",
    "my_list.extend(new_list)"
   ]
  },
  {
   "cell_type": "code",
   "execution_count": 25,
   "id": "e7c7dbfd",
   "metadata": {},
   "outputs": [
    {
     "data": {
      "text/plain": [
       "[1, 2, 3, 4, 5, 'one', 'two', 'three', 'four', 'five']"
      ]
     },
     "execution_count": 25,
     "metadata": {},
     "output_type": "execute_result"
    }
   ],
   "source": [
    "my_list"
   ]
  },
  {
   "cell_type": "markdown",
   "id": "d9d94570",
   "metadata": {},
   "source": [
    "## Who's Paying"
   ]
  },
  {
   "cell_type": "code",
   "execution_count": 39,
   "id": "d6ae426e",
   "metadata": {},
   "outputs": [
    {
     "name": "stdout",
     "output_type": "stream",
     "text": [
      "Give me everybody's names, separate by a comma.\n",
      "Peter, James, Jane, Faith, Grace, kamau, Kang, soi\n",
      "Grace is going to buy the meal today!\n"
     ]
    }
   ],
   "source": [
    "name_str = input(\"Give me everybody's names, separate by a comma.\\n\")\n",
    "#split the string to form a list\n",
    "names = name_str.split(\", \")\n",
    "#find the number of items in the list\n",
    "length = len(names)\n",
    "rand_no = random.randint(0, length - 1)\n",
    "\n",
    "print(f\"{names[rand_no]} is going to buy the meal today!\")"
   ]
  },
  {
   "cell_type": "markdown",
   "id": "dcf88414",
   "metadata": {},
   "source": [
    "## random.choice()"
   ]
  },
  {
   "cell_type": "code",
   "execution_count": 41,
   "id": "e37990e5",
   "metadata": {},
   "outputs": [
    {
     "name": "stdout",
     "output_type": "stream",
     "text": [
      "Give me everybody's names, separate by a comma.\n",
      "Peter, James, Jane, Faith, Grace, kamau, Kang, soi\n",
      "kamau is going to buy the meal today!\n"
     ]
    }
   ],
   "source": [
    "name_str = input(\"Give me everybody's names, separate by a comma.\\n\")\n",
    "#split the string to form a list\n",
    "names = name_str.split(\", \")\n",
    "\n",
    "print(f\"{random.choice(names)} is going to buy the meal today!\")"
   ]
  },
  {
   "cell_type": "markdown",
   "id": "3cb56491",
   "metadata": {},
   "source": [
    "## nested lists"
   ]
  },
  {
   "cell_type": "code",
   "execution_count": 43,
   "id": "5fc8c443",
   "metadata": {},
   "outputs": [
    {
     "name": "stdout",
     "output_type": "stream",
     "text": [
      "[['Strawberries', 'Nectarines', 'Apples', 'Grapes', 'Peaches', 'Cherries', 'Pears'], ['Spinach', 'Kale', 'Tomatoes', 'Celery', 'Potatoes']]\n"
     ]
    }
   ],
   "source": [
    "vegetables = [\"Spinach\", \"Kale\", \"Tomatoes\", \"Celery\", \"Potatoes\"]\n",
    "fruits = [\"Strawberries\",  \"Nectarines\", \"Apples\", \"Grapes\", \"Peaches\", \"Cherries\", \"Pears\" ]\n",
    "dirty_dozen = [fruits, vegetables]\n",
    "print(dirty_dozen)"
   ]
  },
  {
   "cell_type": "markdown",
   "id": "829da653",
   "metadata": {},
   "source": [
    "## Treasure Map"
   ]
  },
  {
   "cell_type": "code",
   "execution_count": 60,
   "id": "d7de41c8",
   "metadata": {},
   "outputs": [
    {
     "name": "stdout",
     "output_type": "stream",
     "text": [
      "['👑', '👑', '👑']\n",
      "['👑', '👑', '👑']\n",
      "['👑', '👑', '👑']\n",
      "Where do you want to put the treasure? 13\n",
      "['👑', '👑', '👑']\n",
      "['👑', '👑', '👑']\n",
      "[' X ', '👑', '👑']\n"
     ]
    }
   ],
   "source": [
    "row1 = [\"👑\", \"👑\", \"👑\"]\n",
    "row2 = [\"👑\", \"👑\", \"👑\"]\n",
    "row3 = [\"👑\", \"👑\", \"👑\"]\n",
    "\n",
    "map = [row1, row2, row3]\n",
    "print(f\"{row1}\\n{row2}\\n{row3}\")\n",
    "position = input(\"Where do you want to put the treasure? \")\n",
    "horizontal = int(position[0])\n",
    "vertical = int(position[1])\n",
    "\n",
    "map[vertical - 1][horizontal - 1] = ' X '\n",
    "\n",
    "print(f\"{row1}\\n{row2}\\n{row3}\")"
   ]
  },
  {
   "cell_type": "code",
   "execution_count": 47,
   "id": "eea83da6",
   "metadata": {},
   "outputs": [
    {
     "data": {
      "text/plain": [
       "'3'"
      ]
     },
     "execution_count": 47,
     "metadata": {},
     "output_type": "execute_result"
    }
   ],
   "source": [
    "p = \"32\"\n",
    "p[0]"
   ]
  },
  {
   "cell_type": "code",
   "execution_count": null,
   "id": "4c0903d4",
   "metadata": {},
   "outputs": [],
   "source": []
  },
  {
   "cell_type": "markdown",
   "id": "c218f96e",
   "metadata": {},
   "source": [
    "## Rock Paper Scissors"
   ]
  },
  {
   "cell_type": "code",
   "execution_count": 103,
   "id": "16d72e9a",
   "metadata": {},
   "outputs": [
    {
     "name": "stdout",
     "output_type": "stream",
     "text": [
      "What do you choose? Type 0 for Rock, 1 for Papper or 2 for Scissors.\n",
      " 1\n",
      "\n",
      "    _______\n",
      "---'   ____)____\n",
      "          ______)\n",
      "          _______)\n",
      "         _______)\n",
      "---.__________)\n",
      "\n",
      "computer choose:\n",
      "\n",
      "    _______\n",
      "---'   ____)\n",
      "      (_____)\n",
      "      (_____)\n",
      "      (____)\n",
      "---.__(___)\n",
      "\n",
      "you win\n"
     ]
    }
   ],
   "source": [
    "rock = '''\n",
    "    _______\n",
    "---'   ____)\n",
    "      (_____)\n",
    "      (_____)\n",
    "      (____)\n",
    "---.__(___)\n",
    "'''\n",
    "\n",
    "paper = '''\n",
    "    _______\n",
    "---'   ____)____\n",
    "          ______)\n",
    "          _______)\n",
    "         _______)\n",
    "---.__________)\n",
    "'''\n",
    "scissors = '''\n",
    "    _______\n",
    "---'   ____)____\n",
    "          ______)\n",
    "       __________)\n",
    "      (____)\n",
    "---.__(___)\n",
    "'''\n",
    "game = [rock, paper, scissors]\n",
    "\n",
    "choice = int(input(\"What do you choose? Type 0 for Rock, 1 for Papper or 2 for Scissors.\\n \"))\n",
    "if choice >= 3 or choice < 0:\n",
    "    print(\"You typed an invalid number.... you loose\")\n",
    "else:\n",
    "    print(game[choice])\n",
    "    comp = random.randint(0, 2)\n",
    "    print(f\"computer choose:\\n{game[comp]}\")\n",
    "\n",
    "    if choice == 0 and comp == 2:\n",
    "        print(\"You win!\")\n",
    "    elif choice == 2 and comp == 0:\n",
    "        print(\"you loose\")\n",
    "    elif comp > choice:\n",
    "        print(\"you loose\")\n",
    "    elif comp < choice:\n",
    "        print(\"you win\")\n",
    "    elif comp == choice: \n",
    "        print(\"its a draw\")\n"
   ]
  },
  {
   "cell_type": "code",
   "execution_count": null,
   "id": "d4265539",
   "metadata": {},
   "outputs": [],
   "source": []
  }
 ],
 "metadata": {
  "kernelspec": {
   "display_name": "Python 3",
   "language": "python",
   "name": "python3"
  },
  "language_info": {
   "codemirror_mode": {
    "name": "ipython",
    "version": 3
   },
   "file_extension": ".py",
   "mimetype": "text/x-python",
   "name": "python",
   "nbconvert_exporter": "python",
   "pygments_lexer": "ipython3",
   "version": "3.8.8"
  }
 },
 "nbformat": 4,
 "nbformat_minor": 5
}
